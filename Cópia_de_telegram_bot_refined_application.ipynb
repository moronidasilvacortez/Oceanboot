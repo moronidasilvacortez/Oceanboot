{
  "nbformat": 4,
  "nbformat_minor": 0,
  "metadata": {
    "colab": {
      "provenance": [],
      "include_colab_link": true
    },
    "kernelspec": {
      "name": "python3",
      "display_name": "Python 3"
    },
    "language_info": {
      "name": "python"
    }
  },
  "cells": [
    {
      "cell_type": "markdown",
      "metadata": {
        "id": "view-in-github",
        "colab_type": "text"
      },
      "source": [
        "<a href=\"https://colab.research.google.com/github/moronidasilvacortez/Oceanboot/blob/main/C%C3%B3pia_de_telegram_bot_refined_application.ipynb\" target=\"_parent\"><img src=\"https://colab.research.google.com/assets/colab-badge.svg\" alt=\"Open In Colab\"/></a>"
      ]
    },
    {
      "cell_type": "markdown",
      "source": [
        "#Instalação de Pacotes"
      ],
      "metadata": {
        "id": "u394y6sJseky"
      }
    },
    {
      "cell_type": "code",
      "execution_count": null,
      "metadata": {
        "id": "gDI91lX0xtfb"
      },
      "outputs": [],
      "source": [
        "!pip install pytelegrambotapi\n",
        "!pip install emoji"
      ]
    },
    {
      "cell_type": "markdown",
      "source": [
        "#Procedimento de Criação do Bot"
      ],
      "metadata": {
        "id": "wxJyFquUsrS7"
      }
    },
    {
      "cell_type": "markdown",
      "source": [
        "###Geração da chave (KEY) do Telegram\n",
        "\n",
        "### Etapas:"
      ],
      "metadata": {
        "id": "QDVzpAvYszKT"
      }
    },
    {
      "cell_type": "markdown",
      "source": [
        "1. Abrir o Telegram (Web ou celular).\n",
        "![](https://raw.githubusercontent.com/gladson-sza/chatbot_telegram/master/telegram_screenshots/open_telegram.png)"
      ],
      "metadata": {
        "id": "A7pdS2iELk4P"
      }
    },
    {
      "cell_type": "markdown",
      "source": [
        "2. Buscar por `BotFather` no Telegram.\n",
        "![](https://raw.githubusercontent.com/gladson-sza/chatbot_telegram/master/telegram_screenshots/bot_father_search.png)"
      ],
      "metadata": {
        "id": "cPTZrXypLlPm"
      }
    },
    {
      "cell_type": "markdown",
      "source": [
        "3. Clicar no `BotFather`.\n",
        "![](https://raw.githubusercontent.com/gladson-sza/chatbot_telegram/master/telegram_screenshots/bot_father_click.png)"
      ],
      "metadata": {
        "id": "X-jXy4gVLlUd"
      }
    },
    {
      "cell_type": "markdown",
      "source": [
        "4. Clicar no botão `START`.\n",
        "![](https://raw.githubusercontent.com/gladson-sza/chatbot_telegram/master/telegram_screenshots/bot_father_start.png)"
      ],
      "metadata": {
        "id": "KZGWjcjaLlWr"
      }
    },
    {
      "cell_type": "markdown",
      "source": [
        "5. Clicar em `\\newbot`.\n",
        "![](https://raw.githubusercontent.com/gladson-sza/chatbot_telegram/master/telegram_screenshots/bot_father_start_click.png)"
      ],
      "metadata": {
        "id": "X5TllyMvLlY_"
      }
    },
    {
      "cell_type": "markdown",
      "source": [
        "6. Escrever (escolher) um nome para o Bot.\n",
        "![](https://raw.githubusercontent.com/gladson-sza/chatbot_telegram/master/telegram_screenshots/bot_father_choose_a_name.png)"
      ],
      "metadata": {
        "id": "SDDuY4BnLlci"
      }
    },
    {
      "cell_type": "markdown",
      "source": [
        "7. Escrever (escolher) um username para o Bot. O username deve terminar com bot e deve ser único.\n",
        "![](https://raw.githubusercontent.com/gladson-sza/chatbot_telegram/master/telegram_screenshots/bot_father_choose_a_username.png)"
      ],
      "metadata": {
        "id": "1SuCm3igLlj2"
      }
    },
    {
      "cell_type": "markdown",
      "source": [
        "8. Salvar a KEY gerada.\n",
        "![](https://raw.githubusercontent.com/gladson-sza/chatbot_telegram/master/telegram_screenshots/bot_father_key.png)"
      ],
      "metadata": {
        "id": "D08o5JeHLlnU"
      }
    },
    {
      "cell_type": "markdown",
      "source": [
        "## Importar bibliotecas, e inserir a chave (KEY) de API do Telegram"
      ],
      "metadata": {
        "id": "NrvI45JTs46b"
      }
    },
    {
      "cell_type": "code",
      "source": [
        "import telebot\n",
        "import emoji\n",
        "from telebot import types\n",
        "\n",
        "API_KEY = ''\n",
        "bot = telebot.TeleBot(API_KEY)"
      ],
      "metadata": {
        "id": "zQmSw0W5x29T"
      },
      "execution_count": null,
      "outputs": []
    },
    {
      "cell_type": "markdown",
      "source": [
        "## Criando nossos dicionários contendo as informações que irão compor nossa base de dados"
      ],
      "metadata": {
        "id": "zL4FL3_ak742"
      }
    },
    {
      "cell_type": "code",
      "source": [
        "descricao_das_cidades = {\n",
        "    'Manaus': 'Manaus, nos bancos do Rio Negro no noroeste do Brasil, é a capital do vasto estado do Amazonas. Trata-se de um ponto de partida importante próximo à Floresta Amazônica. A leste da cidade, o Rio Negro, escuro, converge para o Rio Solimões, barrento, resultando em um fenômeno visual incrível chamado de \"Encontro das Águas\". A combinação dos afluentes forma o Rio Amazonas.',\n",
        "    'São Paulo': 'São Paulo, centro financeiro do Brasil, está entre as cidades mais populosas do mundo, com diversas instituições culturais e uma rica tradição arquitetônica. Há prédios simbólicos como a catedral neogótica, o Edifício Martinelli, um arranha-céu inaugurado em 1929, e o Edifício Copan, com suas linhas curvas projetadas pelo arquiteto modernista Oscar Niemeyer. A igreja em estilo colonial do Pátio do Colégio marca o local onde os padres jesuítas fundaram a cidade em 1554.',\n",
        "    'Rio de Janeiro': 'O Rio de Janeiro é uma grande cidade brasileira à beira-mar, famosa pelas praias de Copacabana e Ipanema, pela estátua de 38 metros de altura do Cristo Redentor, no topo do Corcovado, e pelo Pão de Açúcar, um pico de granito com teleféricos até seu cume. A cidade também é conhecida pelas grandes favelas. O empolgante Carnaval, com carros alegóricos, fantasias extravagantes e sambistas, é considerado o maior do mundo.',\n",
        "    'Fortaleza': 'Fortaleza é a capital do estado do Ceará, no Nordeste brasileiro. A cidade é conhecida por suas praias, com falésias vermelhas, palmeiras, dunas e lagoas. As tradições folclóricas da cidade podem ser vistas em apresentações de dança no Theatro José de Alencar, construção em estilo art nouveau inaugurada em 1910. Outro destaque arquitetônico é a Catedral Metropolitana, em estilo neogótico.'\n",
        "}\n",
        "\n",
        "descricao_dos_pontos_turisticos = {\n",
        "    'Cristo Redentor': 'Cristo Redentor é uma estátua art déco que retrata Jesus Cristo, localizada no topo do morro do Corcovado, a 709 metros acima do nível do mar, com vista para parte considerável da cidade brasileira do Rio de Janeiro. Feito de concreto armado e pedra-sabão, tem trinta metros de altura (uma das maiores estátuas do mundo), sem contar os oito metros do pedestal. Seus braços se esticam por 28 metros de largura e a estrutura pesa 1145 toneladas',\n",
        "    'Teatro Amazonas': 'O Teatro Amazonas é um dos mais importantes teatros do Brasil e o principal cartão-postal da cidade de Manaus. Localizado no Largo de São Sebastião, no Centro Histórico, foi inaugurado em 1896 para atender ao desejo da elite amazonense da época, que idealizava a cidade à altura dos grandes centros culturais. É amplamente considerado como um dos mais belos teatros do mundo.',\n",
        "    'Parque Ibirapuera': 'Inaugurado em 1954 com uma área de 158 hectares (390 acres), entre as avenidas Pedro Álvares Cabral, República do Líbano e IV Centenário, o Parque Ibirapuera é um parque tombado e patrimônio histórico de São Paulo. Seus jardins foram desenhados pelo paisagista Otávio Augusto Teixeira Mendes, após o conceito e anteprojeto do paisagista Roberto Burle Marx',\n",
        "    'Beira Mar': 'Construída há pouco mais de 50 anos, a Avenida Beira-Mar é um dos principais cartões-postais de Fortaleza e é o local de diversão e trabalho mais valorizado na capital devido à sua orla cheia de luxuosos edifícios e hotéis e pelo calçadão movimentado por turistas e praticantes de atividades físicas. '\n",
        "}"
      ],
      "metadata": {
        "id": "W5TCoDja1WSm"
      },
      "execution_count": null,
      "outputs": []
    },
    {
      "cell_type": "markdown",
      "source": [
        "## Definindo labels para nossos botões"
      ],
      "metadata": {
        "id": "MPCVdMVEMlLZ"
      }
    },
    {
      "cell_type": "code",
      "source": [
        "LABEL_LISTAR_CIDADES = 'Listar Cidades'\n",
        "LABEL_LISTAR_ATRACOES_TURISTICAS = 'Listar Atrações Turísticas'"
      ],
      "metadata": {
        "id": "ueXbj_nvMli1"
      },
      "execution_count": null,
      "outputs": []
    },
    {
      "cell_type": "markdown",
      "source": [
        "### Exibe a mensagem inicial de boas vindas ao Bot\n",
        "\n",
        "* `ReplyKeyboardMarkup` define o tipo de teclado de resposta\n",
        "* `KeyboardButton` define os botões que aparecerão neste teclado\n",
        "* `emoji.emojize` adiciona emoji em uma string formatada"
      ],
      "metadata": {
        "id": "JqT94GMptTeY"
      }
    },
    {
      "cell_type": "code",
      "source": [
        "def apresentacao(message):\n",
        "    markup = types.ReplyKeyboardMarkup(one_time_keyboard=True)\n",
        "    botao_cidades = types.KeyboardButton(LABEL_LISTAR_CIDADES)\n",
        "    botao_atracoes_turisticas = types.KeyboardButton(LABEL_LISTAR_ATRACOES_TURISTICAS)\n",
        "\n",
        "    markup.row(botao_cidades)\n",
        "    markup.row(botao_atracoes_turisticas)\n",
        "\n",
        "    bot.reply_to(\n",
        "        message,\n",
        "        emoji.emojize('Olá, seja bem vindo ao nosso catálogo de atrações turísticas :house_with_garden:'),\n",
        "        reply_markup=markup\n",
        "    )"
      ],
      "metadata": {
        "id": "wzHLP4eF8EjW"
      },
      "execution_count": null,
      "outputs": []
    },
    {
      "cell_type": "markdown",
      "source": [
        "### Exibe as cidades salvas em nosso dicionário como uma lista de botões clicáveis"
      ],
      "metadata": {
        "id": "Ylp9o2xxi1PC"
      }
    },
    {
      "cell_type": "code",
      "source": [
        "def mostrar_cidades(message):\n",
        "    markup = types.ReplyKeyboardMarkup(one_time_keyboard=True)\n",
        "\n",
        "    for key in descricao_das_cidades.keys():\n",
        "        markup.row(types.KeyboardButton(key))\n",
        "\n",
        "    bot.reply_to(\n",
        "        message,\n",
        "        emoji.emojize('Cidades disponíveis para consulta :post_office:'),\n",
        "        reply_markup=markup\n",
        "    )"
      ],
      "metadata": {
        "id": "LBl_mrmLMx12"
      },
      "execution_count": null,
      "outputs": []
    },
    {
      "cell_type": "markdown",
      "source": [
        "### Exibe a descrição do ponto turístico selecionado e então volta ao menu de apresentação"
      ],
      "metadata": {
        "id": "BYDaSg-QjMtz"
      }
    },
    {
      "cell_type": "code",
      "source": [
        "def mostrar_descricoes_das_cidades(message):\n",
        "    bot.send_message(message.chat.id, descricao_das_cidades[message.text])\n",
        "    apresentacao(message)"
      ],
      "metadata": {
        "id": "YIDNvSerMzNE"
      },
      "execution_count": null,
      "outputs": []
    },
    {
      "cell_type": "markdown",
      "source": [
        "### Exibe os pontos turísticos salvos em nosso dicionário como uma lista de botões clicáveis"
      ],
      "metadata": {
        "id": "DmPjRBixjNPO"
      }
    },
    {
      "cell_type": "code",
      "source": [
        "def mostrar_pontos_turisticos(message):\n",
        "    markup = types.ReplyKeyboardMarkup(one_time_keyboard=True)\n",
        "\n",
        "    for key in descricao_dos_pontos_turisticos.keys():\n",
        "        markup.row(types.KeyboardButton(key))\n",
        "\n",
        "    bot.reply_to(\n",
        "        message,\n",
        "        emoji.emojize('Atrações disponíveis para consulta :church:'),\n",
        "        reply_markup=markup)"
      ],
      "metadata": {
        "id": "4xdRyy92M1DE"
      },
      "execution_count": null,
      "outputs": []
    },
    {
      "cell_type": "markdown",
      "source": [
        "### Exibe a descrição do ponto turístico selecionado e então volta ao menu de apresentação"
      ],
      "metadata": {
        "id": "WKWrbvIujOHx"
      }
    },
    {
      "cell_type": "code",
      "source": [
        "def mostrar_descricoes_dos_pontos_turisticos(message):\n",
        "    bot.send_message(message.chat.id, descricao_dos_pontos_turisticos[message.text])\n",
        "    apresentacao(message)"
      ],
      "metadata": {
        "id": "I4pxyD70M6q8"
      },
      "execution_count": null,
      "outputs": []
    },
    {
      "cell_type": "markdown",
      "source": [
        "## Criando um handler especial para lidar com nossos novos comandos"
      ],
      "metadata": {
        "id": "PqP4lfvVtN4w"
      }
    },
    {
      "cell_type": "code",
      "source": [
        "@bot.message_handler(func=lambda message: True)\n",
        "def default(message):\n",
        "    if message.text == LABEL_LISTAR_CIDADES:\n",
        "        mostrar_cidades(message)\n",
        "    elif message.text == LABEL_LISTAR_ATRACOES_TURISTICAS:\n",
        "        mostrar_pontos_turisticos(message)\n",
        "    elif message.text in descricao_das_cidades.keys():\n",
        "        mostrar_descricoes_das_cidades(message)\n",
        "    elif message.text in descricao_dos_pontos_turisticos.keys():\n",
        "        mostrar_descricoes_dos_pontos_turisticos(message)\n",
        "    else:\n",
        "        apresentacao(message)\n"
      ],
      "metadata": {
        "id": "3lIJQJBo1Wfk"
      },
      "execution_count": null,
      "outputs": []
    },
    {
      "cell_type": "code",
      "source": [
        "bot.polling()"
      ],
      "metadata": {
        "id": "srzw2EBHyjlt"
      },
      "execution_count": null,
      "outputs": []
    }
  ]
}